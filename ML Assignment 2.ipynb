{
 "cells": [
  {
   "cell_type": "markdown",
   "id": "c1863d2e-6ec4-4b33-821a-61d20b18ae48",
   "metadata": {},
   "source": [
    "# Programming Assignment 2 #\n",
    "## Name       : Bhaskar Reddy Vanteddu ##\n",
    "## 700 Number : 700757998"
   ]
  },
  {
   "cell_type": "markdown",
   "id": "e07085e0-519a-4eac-9d16-2c44f9ccf7d4",
   "metadata": {},
   "source": [
    "## Question 1:"
   ]
  },
  {
   "cell_type": "code",
   "execution_count": 11,
   "id": "ac8b0f57-2337-4c9f-b46f-a4cfd983b844",
   "metadata": {},
   "outputs": [
    {
     "name": "stdout",
     "output_type": "stream",
     "text": [
      "*\n",
      "**\n",
      "***\n",
      "****\n",
      "*****\n",
      "****\n",
      "***\n",
      "**\n",
      "*\n"
     ]
    }
   ],
   "source": [
    "for i in range(1,6):\n",
    "    print(i*'*')\n",
    "for j in range(4,0,-1):\n",
    "    print(j*'*')"
   ]
  },
  {
   "cell_type": "markdown",
   "id": "94864d06-2d63-401d-b968-8a183dc827ae",
   "metadata": {},
   "source": [
    "## Question 2"
   ]
  },
  {
   "cell_type": "code",
   "execution_count": 17,
   "id": "fd131eb4-401f-4ee1-be79-8889287c478f",
   "metadata": {},
   "outputs": [
    {
     "name": "stdout",
     "output_type": "stream",
     "text": [
      "20\n",
      "40\n",
      "60\n",
      "80\n",
      "100\n"
     ]
    }
   ],
   "source": [
    "my_list = [10, 20, 30, 40, 50, 60, 70, 80, 90, 100]\n",
    "for i in range(1,10,2):\n",
    "    print(my_list[i])"
   ]
  },
  {
   "cell_type": "markdown",
   "id": "fb31dc6a-b67a-43c0-b6fd-ed4d3efc9676",
   "metadata": {},
   "source": [
    "## Question 3"
   ]
  },
  {
   "cell_type": "code",
   "execution_count": 26,
   "id": "c239f395-9a25-478d-88bf-71e475ffdb60",
   "metadata": {},
   "outputs": [
    {
     "name": "stdout",
     "output_type": "stream",
     "text": [
      "[23, 'Python', 23.98]\n",
      "[<class 'int'>, <class 'str'>, <class 'float'>]\n"
     ]
    }
   ],
   "source": [
    "x = [23, 'Python', 23.98]\n",
    "x_type = []\n",
    "for i in x:\n",
    "    x_type.append(type(i))\n",
    "print(x)\n",
    "print(x_type)"
   ]
  },
  {
   "cell_type": "markdown",
   "id": "08f677f9-8b8b-4b9b-8aab-344d44ddd19d",
   "metadata": {},
   "source": [
    "## Question 4"
   ]
  },
  {
   "cell_type": "code",
   "execution_count": 35,
   "id": "773575f0-70ed-424c-a981-6de35b054e4e",
   "metadata": {},
   "outputs": [
    {
     "data": {
      "text/plain": [
       "[1, 2, 3, 4, 5]"
      ]
     },
     "execution_count": 35,
     "metadata": {},
     "output_type": "execute_result"
    }
   ],
   "source": [
    "sample_list = [1,2,3,3,3,3,4,5]\n",
    "unique_list = list(set(sample_list))\n",
    "unique_list"
   ]
  },
  {
   "cell_type": "markdown",
   "id": "9ae05be3-bd14-48ea-b4d0-bb50e2fd5c31",
   "metadata": {},
   "source": [
    "## Question 5"
   ]
  },
  {
   "cell_type": "code",
   "execution_count": 41,
   "id": "3295c675-f09d-4cdf-9c0d-fc17511deee4",
   "metadata": {},
   "outputs": [
    {
     "name": "stdout",
     "output_type": "stream",
     "text": [
      "No. of Upper-case characters:   3\n",
      "No. of Lower-case characters:   12\n"
     ]
    }
   ],
   "source": [
    "input_string =  'The quick Brow Fox'\n",
    "upper_count = sum(1 for i in input_string if i.isupper())\n",
    "lower_count = sum(1 for i in input_string if i.islower())\n",
    "print('No. of Upper-case characters:   '+str(upper_count)+'\\n'+'No. of Lower-case characters:   '+str(lower_count))"
   ]
  }
 ],
 "metadata": {
  "kernelspec": {
   "display_name": "Python 3 (ipykernel)",
   "language": "python",
   "name": "python3"
  },
  "language_info": {
   "codemirror_mode": {
    "name": "ipython",
    "version": 3
   },
   "file_extension": ".py",
   "mimetype": "text/x-python",
   "name": "python",
   "nbconvert_exporter": "python",
   "pygments_lexer": "ipython3",
   "version": "3.11.5"
  }
 },
 "nbformat": 4,
 "nbformat_minor": 5
}
